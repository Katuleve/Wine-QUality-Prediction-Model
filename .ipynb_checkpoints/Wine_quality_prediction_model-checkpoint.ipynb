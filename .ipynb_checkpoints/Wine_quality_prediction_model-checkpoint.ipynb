{
 "cells": [
  {
   "cell_type": "code",
   "execution_count": 245,
   "id": "db0aaf9a",
   "metadata": {},
   "outputs": [],
   "source": [
    "import pandas as pd \n",
    "import numpy as np\n",
    "import matplotlib.pyplot\n",
    "import seaborn as sns"
   ]
  },
  {
   "cell_type": "code",
   "execution_count": 246,
   "id": "e997885b",
   "metadata": {},
   "outputs": [
    {
     "data": {
      "text/html": [
       "<div>\n",
       "<style scoped>\n",
       "    .dataframe tbody tr th:only-of-type {\n",
       "        vertical-align: middle;\n",
       "    }\n",
       "\n",
       "    .dataframe tbody tr th {\n",
       "        vertical-align: top;\n",
       "    }\n",
       "\n",
       "    .dataframe thead th {\n",
       "        text-align: right;\n",
       "    }\n",
       "</style>\n",
       "<table border=\"1\" class=\"dataframe\">\n",
       "  <thead>\n",
       "    <tr style=\"text-align: right;\">\n",
       "      <th></th>\n",
       "      <th>fixed acidity</th>\n",
       "      <th>volatile acidity</th>\n",
       "      <th>citric acid</th>\n",
       "      <th>residual sugar</th>\n",
       "      <th>chlorides</th>\n",
       "      <th>free sulfur dioxide</th>\n",
       "      <th>total sulfur dioxide</th>\n",
       "      <th>density</th>\n",
       "      <th>pH</th>\n",
       "      <th>sulphates</th>\n",
       "      <th>alcohol</th>\n",
       "      <th>quality</th>\n",
       "    </tr>\n",
       "  </thead>\n",
       "  <tbody>\n",
       "    <tr>\n",
       "      <th>0</th>\n",
       "      <td>7.40</td>\n",
       "      <td>0.70</td>\n",
       "      <td>0.00</td>\n",
       "      <td>1.90</td>\n",
       "      <td>0.08</td>\n",
       "      <td>11.00</td>\n",
       "      <td>34.00</td>\n",
       "      <td>1.00</td>\n",
       "      <td>3.51</td>\n",
       "      <td>0.56</td>\n",
       "      <td>9.40</td>\n",
       "      <td>5</td>\n",
       "    </tr>\n",
       "    <tr>\n",
       "      <th>1</th>\n",
       "      <td>7.80</td>\n",
       "      <td>0.88</td>\n",
       "      <td>0.00</td>\n",
       "      <td>2.60</td>\n",
       "      <td>0.10</td>\n",
       "      <td>25.00</td>\n",
       "      <td>67.00</td>\n",
       "      <td>1.00</td>\n",
       "      <td>3.20</td>\n",
       "      <td>0.68</td>\n",
       "      <td>9.80</td>\n",
       "      <td>5</td>\n",
       "    </tr>\n",
       "    <tr>\n",
       "      <th>2</th>\n",
       "      <td>7.80</td>\n",
       "      <td>0.76</td>\n",
       "      <td>0.04</td>\n",
       "      <td>2.30</td>\n",
       "      <td>0.09</td>\n",
       "      <td>15.00</td>\n",
       "      <td>54.00</td>\n",
       "      <td>1.00</td>\n",
       "      <td>3.26</td>\n",
       "      <td>0.65</td>\n",
       "      <td>9.80</td>\n",
       "      <td>5</td>\n",
       "    </tr>\n",
       "    <tr>\n",
       "      <th>3</th>\n",
       "      <td>11.20</td>\n",
       "      <td>0.28</td>\n",
       "      <td>0.56</td>\n",
       "      <td>1.90</td>\n",
       "      <td>0.07</td>\n",
       "      <td>17.00</td>\n",
       "      <td>60.00</td>\n",
       "      <td>1.00</td>\n",
       "      <td>3.16</td>\n",
       "      <td>0.58</td>\n",
       "      <td>9.80</td>\n",
       "      <td>6</td>\n",
       "    </tr>\n",
       "    <tr>\n",
       "      <th>4</th>\n",
       "      <td>7.40</td>\n",
       "      <td>0.70</td>\n",
       "      <td>0.00</td>\n",
       "      <td>1.90</td>\n",
       "      <td>0.08</td>\n",
       "      <td>11.00</td>\n",
       "      <td>34.00</td>\n",
       "      <td>1.00</td>\n",
       "      <td>3.51</td>\n",
       "      <td>0.56</td>\n",
       "      <td>9.40</td>\n",
       "      <td>5</td>\n",
       "    </tr>\n",
       "  </tbody>\n",
       "</table>\n",
       "</div>"
      ],
      "text/plain": [
       "   fixed acidity  volatile acidity  citric acid  residual sugar  chlorides  \\\n",
       "0           7.40              0.70         0.00            1.90       0.08   \n",
       "1           7.80              0.88         0.00            2.60       0.10   \n",
       "2           7.80              0.76         0.04            2.30       0.09   \n",
       "3          11.20              0.28         0.56            1.90       0.07   \n",
       "4           7.40              0.70         0.00            1.90       0.08   \n",
       "\n",
       "   free sulfur dioxide  total sulfur dioxide  density   pH  sulphates  \\\n",
       "0                11.00                 34.00     1.00 3.51       0.56   \n",
       "1                25.00                 67.00     1.00 3.20       0.68   \n",
       "2                15.00                 54.00     1.00 3.26       0.65   \n",
       "3                17.00                 60.00     1.00 3.16       0.58   \n",
       "4                11.00                 34.00     1.00 3.51       0.56   \n",
       "\n",
       "   alcohol  quality  \n",
       "0     9.40        5  \n",
       "1     9.80        5  \n",
       "2     9.80        5  \n",
       "3     9.80        6  \n",
       "4     9.40        5  "
      ]
     },
     "execution_count": 246,
     "metadata": {},
     "output_type": "execute_result"
    }
   ],
   "source": [
    "df = pd.read_csv('winequality-red.csv')\n",
    "df.head()"
   ]
  },
  {
   "cell_type": "code",
   "execution_count": 247,
   "id": "490fcd0f",
   "metadata": {},
   "outputs": [],
   "source": [
    "df['quality'] = df['quality'].apply(lambda x:1 if x>=7 else 0)\n",
    "df.rename(columns = {'quality' : 'Good Quality'}, inplace=True)"
   ]
  },
  {
   "cell_type": "code",
   "execution_count": 248,
   "id": "529f7a66",
   "metadata": {},
   "outputs": [
    {
     "data": {
      "image/png": "[encoded data removed]",
      "text/plain": [
       "<Figure size 1000x600 with 1 Axes>"
      ]
     },
     "metadata": {},
     "output_type": "display_data"
    }
   ],
   "source": [
    "plt.figure(figsize=(10,6))\n",
    "sns.countplot(x = df['Good Quality'])\n",
    "plt.show()"
   ]
  },
  {
   "cell_type": "code",
   "execution_count": 249,
   "id": "9e6d4511",
   "metadata": {},
   "outputs": [],
   "source": [
    "from sklearn.compose import make_column_transformer\n",
    "from sklearn.preprocessing import MinMaxScaler, StandardScaler\n",
    "from sklearn.model_selection import train_test_split\n",
    "\n"
   ]
  },
  {
   "cell_type": "code",
   "execution_count": 250,
   "id": "f73aa88f",
   "metadata": {},
   "outputs": [],
   "source": [
    "X = df.drop('Good Quality', axis=1)\n",
    "y = df.iloc[:, -1]\n",
    "\n",
    "\n",
    "X_train, X_test, y_train, y_test =train_test_split(X, y, test_size=.3, random_state=42)"
   ]
  },
  {
   "cell_type": "code",
   "execution_count": 251,
   "id": "6aa0f2a5",
   "metadata": {},
   "outputs": [
    {
     "name": "stderr",
     "output_type": "stream",
     "text": [
      "  7%|█████▋                                                                            | 2/29 [00:00<00:04,  5.98it/s]C:\\Users\\Musya\\AppData\\Local\\anaconda\\lib\\site-packages\\sklearn\\svm\\_base.py:1244: ConvergenceWarning: Liblinear failed to converge, increase the number of iterations.\n",
      "  warnings.warn(\n",
      "C:\\Users\\Musya\\AppData\\Local\\anaconda\\lib\\site-packages\\sklearn\\svm\\_base.py:1244: ConvergenceWarning: Liblinear failed to converge, increase the number of iterations.\n",
      "  warnings.warn(\n",
      "C:\\Users\\Musya\\AppData\\Local\\anaconda\\lib\\site-packages\\sklearn\\svm\\_base.py:1244: ConvergenceWarning: Liblinear failed to converge, increase the number of iterations.\n",
      "  warnings.warn(\n",
      "C:\\Users\\Musya\\AppData\\Local\\anaconda\\lib\\site-packages\\sklearn\\svm\\_base.py:1244: ConvergenceWarning: Liblinear failed to converge, increase the number of iterations.\n",
      "  warnings.warn(\n",
      "C:\\Users\\Musya\\AppData\\Local\\anaconda\\lib\\site-packages\\sklearn\\svm\\_base.py:1244: ConvergenceWarning: Liblinear failed to converge, increase the number of iterations.\n",
      "  warnings.warn(\n",
      " 45%|████████████████████████████████████▎                                            | 13/29 [00:01<00:01,  8.67it/s]C:\\Users\\Musya\\AppData\\Local\\anaconda\\lib\\site-packages\\sklearn\\svm\\_base.py:1244: ConvergenceWarning: Liblinear failed to converge, increase the number of iterations.\n",
      "  warnings.warn(\n",
      "100%|█████████████████████████████████████████████████████████████████████████████████| 29/29 [00:02<00:00, 10.18it/s]"
     ]
    },
    {
     "name": "stdout",
     "output_type": "stream",
     "text": [
      "[LightGBM] [Info] Number of positive: 150, number of negative: 969\n",
      "[LightGBM] [Info] Auto-choosing col-wise multi-threading, the overhead of testing was 0.000199 seconds.\n",
      "You can set `force_col_wise=true` to remove the overhead.\n",
      "[LightGBM] [Info] Total Bins 988\n",
      "[LightGBM] [Info] Number of data points in the train set: 1119, number of used features: 11\n",
      "[LightGBM] [Info] [binary:BoostFromScore]: pavg=0.134048 -> initscore=-1.865629\n",
      "[LightGBM] [Info] Start training from score -1.865629\n",
      "[LightGBM] [Warning] No further splits with positive gain, best gain: -inf\n",
      "                               Accuracy  Balanced Accuracy  ROC AUC  F1 Score  \\\n",
      "Model                                                                           \n",
      "LabelSpreading                     0.90               0.82     0.82      0.90   \n",
      "LabelPropagation                   0.89               0.81     0.81      0.90   \n",
      "NearestCentroid                    0.79               0.81     0.81      0.82   \n",
      "GaussianNB                         0.84               0.78     0.78      0.85   \n",
      "DecisionTreeClassifier             0.86               0.76     0.76      0.87   \n",
      "BaggingClassifier                  0.89               0.76     0.76      0.89   \n",
      "ExtraTreeClassifier                0.85               0.76     0.76      0.86   \n",
      "ExtraTreesClassifier               0.90               0.74     0.74      0.90   \n",
      "SGDClassifier                      0.85               0.74     0.74      0.85   \n",
      "XGBClassifier                      0.89               0.74     0.74      0.88   \n",
      "QuadraticDiscriminantAnalysis      0.82               0.73     0.73      0.84   \n",
      "BernoulliNB                        0.86               0.73     0.73      0.86   \n",
      "RandomForestClassifier             0.89               0.72     0.72      0.88   \n",
      "PassiveAggressiveClassifier        0.68               0.71     0.71      0.72   \n",
      "LGBMClassifier                     0.88               0.70     0.70      0.88   \n",
      "KNeighborsClassifier               0.87               0.69     0.69      0.87   \n",
      "Perceptron                         0.84               0.69     0.69      0.85   \n",
      "AdaBoostClassifier                 0.86               0.66     0.66      0.85   \n",
      "LinearDiscriminantAnalysis         0.85               0.65     0.65      0.85   \n",
      "SVC                                0.88               0.64     0.64      0.86   \n",
      "CalibratedClassifierCV             0.88               0.63     0.63      0.86   \n",
      "LogisticRegression                 0.86               0.63     0.63      0.85   \n",
      "LinearSVC                          0.88               0.62     0.62      0.85   \n",
      "RidgeClassifier                    0.87               0.54     0.54      0.82   \n",
      "RidgeClassifierCV                  0.87               0.54     0.54      0.82   \n",
      "DummyClassifier                    0.86               0.50     0.50      0.80   \n",
      "\n",
      "                               Time Taken  \n",
      "Model                                      \n",
      "LabelSpreading                       0.16  \n",
      "LabelPropagation                     0.12  \n",
      "NearestCentroid                      0.03  \n",
      "GaussianNB                           0.04  \n",
      "DecisionTreeClassifier               0.03  \n",
      "BaggingClassifier                    0.12  \n",
      "ExtraTreeClassifier                  0.02  \n",
      "ExtraTreesClassifier                 0.43  \n",
      "SGDClassifier                        0.02  \n",
      "XGBClassifier                        0.15  \n",
      "QuadraticDiscriminantAnalysis        0.03  \n",
      "BernoulliNB                          0.03  \n",
      "RandomForestClassifier               0.46  \n",
      "PassiveAggressiveClassifier          0.02  \n",
      "LGBMClassifier                       0.20  \n",
      "KNeighborsClassifier                 0.08  \n",
      "Perceptron                           0.03  \n",
      "AdaBoostClassifier                   0.23  \n",
      "LinearDiscriminantAnalysis           0.03  \n",
      "SVC                                  0.09  \n",
      "CalibratedClassifierCV               0.29  \n",
      "LogisticRegression                   0.04  \n",
      "LinearSVC                            0.07  \n",
      "RidgeClassifier                      0.02  \n",
      "RidgeClassifierCV                    0.03  \n",
      "DummyClassifier                      0.02  \n"
     ]
    },
    {
     "name": "stderr",
     "output_type": "stream",
     "text": [
      "\n"
     ]
    }
   ],
   "source": [
    "from lazypredict.Supervised import LazyClassifier\n",
    "lc = LazyClassifier(verbose= 0, ignore_warnings=True, custom_metric=None)\n",
    "models, prediction = lc.fit(X_train,X_test, y_train, y_test)\n",
    "print(models)"
   ]
  },
  {
   "cell_type": "code",
   "execution_count": 252,
   "id": "2d9115bb",
   "metadata": {},
   "outputs": [],
   "source": [
    "from sklearn.naive_bayes import GaussianNB\n",
    "from sklearn.tree import DecisionTreeClassifier, ExtraTreeClassifier\n",
    "from sklearn.ensemble import BaggingClassifier, ExtraTreesClassifier\n",
    "from sklearn.metrics import accuracy_score\n",
    "\n"
   ]
  },
  {
   "cell_type": "code",
   "execution_count": 255,
   "id": "9ec61af1",
   "metadata": {},
   "outputs": [],
   "source": [
    "models = []\n",
    "\n",
    "models.append(GaussianNB())\n",
    "models.append(DecisionTreeClassifier())\n",
    "models.append(ExtraTreesClassifier())\n",
    "models.append(BaggingClassifier())"
   ]
  },
  {
   "cell_type": "code",
   "execution_count": 256,
   "id": "a03a2830",
   "metadata": {},
   "outputs": [
    {
     "name": "stdout",
     "output_type": "stream",
     "text": [
      "GaussianNB()\n",
      "0.84375\n",
      "DecisionTreeClassifier()\n",
      "0.8583333333333333\n",
      "ExtraTreesClassifier()\n",
      "0.8979166666666667\n",
      "BaggingClassifier()\n",
      "0.8729166666666667\n"
     ]
    }
   ],
   "source": [
    "for model in models:\n",
    "    model.fit(X_train, y_train)\n",
    "    pred = model.predict(X_test)\n",
    "    score = accuracy_score(y_test, pred)\n",
    "    print(model)\n",
    "    print(score)"
   ]
  },
  {
   "cell_type": "code",
   "execution_count": null,
   "id": "b358d3fb",
   "metadata": {},
   "outputs": [],
   "source": []
  },
  {
   "cell_type": "code",
   "execution_count": null,
   "id": "50747663",
   "metadata": {},
   "outputs": [],
   "source": []
  }
 ],
 "metadata": {
  "kernelspec": {
   "display_name": "Python 3 (ipykernel)",
   "language": "python",
   "name": "python3"
  },
  "language_info": {
   "codemirror_mode": {
    "name": "ipython",
    "version": 3
   },
   "file_extension": ".py",
   "mimetype": "text/x-python",
   "name": "python",
   "nbconvert_exporter": "python",
   "pygments_lexer": "ipython3",
   "version": "3.10.9"
  }
 },
 "nbformat": 4,
 "nbformat_minor": 5
}
